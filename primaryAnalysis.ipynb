{
 "cells": [
  {
   "cell_type": "markdown",
   "source": [
    "# \"Voices Heard\" Data Analysis\n",
    "\n",
    "## I. Imports"
   ],
   "metadata": {
    "collapsed": false
   }
  },
  {
   "cell_type": "code",
   "execution_count": 42,
   "outputs": [],
   "source": [
    "import numpy as np\n",
    "import pandas as pd\n",
    "import matplotlib.pyplot as plt\n",
    "import seaborn as sns\n",
    "\n",
    "import nltk\n",
    "import yake\n",
    "\n",
    "from sklearn.preprocessing import StandardScaler\n",
    "from sklearn.model_selection import train_test_split\n",
    "from sklearn.pipeline import make_pipeline\n",
    "from sklearn.svm import SVC\n",
    "from sklearn.tree import DecisionTreeClassifier\n",
    "from sklearn.metrics import classification_report, confusion_matrix"
   ],
   "metadata": {
    "collapsed": false
   }
  },
  {
   "cell_type": "code",
   "execution_count": 43,
   "outputs": [
    {
     "data": {
      "text/plain": "                               Genre  Age   Gpa  Year Gender\n0     Academic Support and Resources   27  2.18     2      M\n1     Academic Support and Resources   23  3.11     2      F\n2     Academic Support and Resources   20  3.68     2      F\n3     Academic Support and Resources   20  1.30     2      F\n4     Academic Support and Resources   26  2.50     2      F\n...                              ...  ...   ...   ...    ...\n1000               Food and Cantines   18  1.16     4      M\n1001               Food and Cantines   20  4.05     2      M\n1002               Food and Cantines   22  1.86     3      M\n1003               Food and Cantines   20  2.06     2      M\n1004               Food and Cantines   21  2.58     1      M\n\n[1005 rows x 5 columns]",
      "text/html": "<div>\n<style scoped>\n    .dataframe tbody tr th:only-of-type {\n        vertical-align: middle;\n    }\n\n    .dataframe tbody tr th {\n        vertical-align: top;\n    }\n\n    .dataframe thead th {\n        text-align: right;\n    }\n</style>\n<table border=\"1\" class=\"dataframe\">\n  <thead>\n    <tr style=\"text-align: right;\">\n      <th></th>\n      <th>Genre</th>\n      <th>Age</th>\n      <th>Gpa</th>\n      <th>Year</th>\n      <th>Gender</th>\n    </tr>\n  </thead>\n  <tbody>\n    <tr>\n      <th>0</th>\n      <td>Academic Support and Resources</td>\n      <td>27</td>\n      <td>2.18</td>\n      <td>2</td>\n      <td>M</td>\n    </tr>\n    <tr>\n      <th>1</th>\n      <td>Academic Support and Resources</td>\n      <td>23</td>\n      <td>3.11</td>\n      <td>2</td>\n      <td>F</td>\n    </tr>\n    <tr>\n      <th>2</th>\n      <td>Academic Support and Resources</td>\n      <td>20</td>\n      <td>3.68</td>\n      <td>2</td>\n      <td>F</td>\n    </tr>\n    <tr>\n      <th>3</th>\n      <td>Academic Support and Resources</td>\n      <td>20</td>\n      <td>1.30</td>\n      <td>2</td>\n      <td>F</td>\n    </tr>\n    <tr>\n      <th>4</th>\n      <td>Academic Support and Resources</td>\n      <td>26</td>\n      <td>2.50</td>\n      <td>2</td>\n      <td>F</td>\n    </tr>\n    <tr>\n      <th>...</th>\n      <td>...</td>\n      <td>...</td>\n      <td>...</td>\n      <td>...</td>\n      <td>...</td>\n    </tr>\n    <tr>\n      <th>1000</th>\n      <td>Food and Cantines</td>\n      <td>18</td>\n      <td>1.16</td>\n      <td>4</td>\n      <td>M</td>\n    </tr>\n    <tr>\n      <th>1001</th>\n      <td>Food and Cantines</td>\n      <td>20</td>\n      <td>4.05</td>\n      <td>2</td>\n      <td>M</td>\n    </tr>\n    <tr>\n      <th>1002</th>\n      <td>Food and Cantines</td>\n      <td>22</td>\n      <td>1.86</td>\n      <td>3</td>\n      <td>M</td>\n    </tr>\n    <tr>\n      <th>1003</th>\n      <td>Food and Cantines</td>\n      <td>20</td>\n      <td>2.06</td>\n      <td>2</td>\n      <td>M</td>\n    </tr>\n    <tr>\n      <th>1004</th>\n      <td>Food and Cantines</td>\n      <td>21</td>\n      <td>2.58</td>\n      <td>1</td>\n      <td>M</td>\n    </tr>\n  </tbody>\n</table>\n<p>1005 rows × 5 columns</p>\n</div>"
     },
     "execution_count": 43,
     "metadata": {},
     "output_type": "execute_result"
    }
   ],
   "source": [
    "df = pd.read_csv(\"data/voicesHeard.csv\")\n",
    "df = df.drop(labels=[\"Reports\", \"Count\"], axis=1)\n",
    "df"
   ],
   "metadata": {
    "collapsed": false
   }
  },
  {
   "cell_type": "code",
   "execution_count": 51,
   "outputs": [
    {
     "ename": "TypeError",
     "evalue": "NDFrame.astype() got an unexpected keyword argument 'inplace'",
     "output_type": "error",
     "traceback": [
      "\u001B[1;31m---------------------------------------------------------------------------\u001B[0m",
      "\u001B[1;31mTypeError\u001B[0m                                 Traceback (most recent call last)",
      "Cell \u001B[1;32mIn[51], line 2\u001B[0m\n\u001B[0;32m      1\u001B[0m df[\u001B[38;5;124m\"\u001B[39m\u001B[38;5;124mGender\u001B[39m\u001B[38;5;124m\"\u001B[39m] \u001B[38;5;241m=\u001B[39m df[\u001B[38;5;124m\"\u001B[39m\u001B[38;5;124mGender\u001B[39m\u001B[38;5;124m\"\u001B[39m]\u001B[38;5;241m.\u001B[39mapply(\u001B[38;5;28;01mlambda\u001B[39;00m x: \u001B[38;5;241m1\u001B[39m \u001B[38;5;28;01mif\u001B[39;00m x\u001B[38;5;241m==\u001B[39m\u001B[38;5;124m\"\u001B[39m\u001B[38;5;124mM\u001B[39m\u001B[38;5;124m\"\u001B[39m \u001B[38;5;28;01melse\u001B[39;00m \u001B[38;5;241m0\u001B[39m)\n\u001B[1;32m----> 2\u001B[0m \u001B[43mdf\u001B[49m\u001B[43m[\u001B[49m\u001B[38;5;124;43m\"\u001B[39;49m\u001B[38;5;124;43mGenre\u001B[39;49m\u001B[38;5;124;43m\"\u001B[39;49m\u001B[43m]\u001B[49m\u001B[38;5;241;43m.\u001B[39;49m\u001B[43mastype\u001B[49m\u001B[43m(\u001B[49m\u001B[38;5;124;43m\"\u001B[39;49m\u001B[38;5;124;43mcategory\u001B[39;49m\u001B[38;5;124;43m\"\u001B[39;49m\u001B[43m,\u001B[49m\u001B[43m \u001B[49m\u001B[43minplace\u001B[49m\u001B[38;5;241;43m=\u001B[39;49m\u001B[38;5;28;43;01mTrue\u001B[39;49;00m\u001B[43m)\u001B[49m\n",
      "\u001B[1;31mTypeError\u001B[0m: NDFrame.astype() got an unexpected keyword argument 'inplace'"
     ]
    }
   ],
   "source": [
    "df[\"Gender\"] = df[\"Gender\"].apply(lambda x: 1 if x==\"M\" else 0)\n",
    "df[\"Genre\"].astype(\"category\")"
   ],
   "metadata": {
    "collapsed": false
   }
  },
  {
   "cell_type": "code",
   "execution_count": 41,
   "outputs": [
    {
     "data": {
      "text/plain": "[1]"
     },
     "execution_count": 41,
     "metadata": {},
     "output_type": "execute_result"
    }
   ],
   "source": [
    "df1[\"Count\"].unique().tolist()"
   ],
   "metadata": {
    "collapsed": false
   }
  },
  {
   "cell_type": "markdown",
   "source": [
    "#### Variable Breakdown\n",
    "We have 1,005 entries along 7 feature columns.\n",
    "Continuous: ```Age```, ```Gpa```\n",
    "Categorical: ```Genre```, ```Year```, ```Gender```\n",
    "Textual: ```Reports```\n",
    "Unknown: ```Count```"
   ],
   "metadata": {
    "collapsed": false
   }
  },
  {
   "cell_type": "code",
   "execution_count": null,
   "outputs": [],
   "source": [],
   "metadata": {
    "collapsed": false
   }
  },
  {
   "cell_type": "code",
   "execution_count": 32,
   "outputs": [
    {
     "data": {
      "text/plain": "                               Genre  \\\n0     Academic Support and Resources   \n1     Academic Support and Resources   \n2     Academic Support and Resources   \n3     Academic Support and Resources   \n4     Academic Support and Resources   \n...                              ...   \n1000               Food and Cantines   \n1001               Food and Cantines   \n1002               Food and Cantines   \n1003               Food and Cantines   \n1004               Food and Cantines   \n\n                                                Reports  Age   Gpa  Year  \\\n0     The limited access to research databases and m...   27  2.18     2   \n1     I'm having trouble finding the course material...   23  3.11     2   \n2     It's frustrating to have limited access to res...   20  3.68     2   \n3     I'm really struggling in one of my classes but...   20  1.30     2   \n4      I am really struggling with understanding the...   26  2.50     2   \n...                                                 ...  ...   ...   ...   \n1000  26. I have been unable to find food that meets...   18  1.16     4   \n1001  27. I have been unable to find food that I can...   20  4.05     2   \n1002  28. I have been unable to find food that I enjoy.   22  1.86     3   \n1003  29. I have been unable to find food that is he...   20  2.06     2   \n1004  30. I have been unable to find food that is co...   21  2.58     1   \n\n      Count  isMale  \n0         1       1  \n1         1       0  \n2         1       0  \n3         1       0  \n4         1       0  \n...     ...     ...  \n1000      1       1  \n1001      1       1  \n1002      1       1  \n1003      1       1  \n1004      1       1  \n\n[1005 rows x 7 columns]",
      "text/html": "<div>\n<style scoped>\n    .dataframe tbody tr th:only-of-type {\n        vertical-align: middle;\n    }\n\n    .dataframe tbody tr th {\n        vertical-align: top;\n    }\n\n    .dataframe thead th {\n        text-align: right;\n    }\n</style>\n<table border=\"1\" class=\"dataframe\">\n  <thead>\n    <tr style=\"text-align: right;\">\n      <th></th>\n      <th>Genre</th>\n      <th>Reports</th>\n      <th>Age</th>\n      <th>Gpa</th>\n      <th>Year</th>\n      <th>Count</th>\n      <th>isMale</th>\n    </tr>\n  </thead>\n  <tbody>\n    <tr>\n      <th>0</th>\n      <td>Academic Support and Resources</td>\n      <td>The limited access to research databases and m...</td>\n      <td>27</td>\n      <td>2.18</td>\n      <td>2</td>\n      <td>1</td>\n      <td>1</td>\n    </tr>\n    <tr>\n      <th>1</th>\n      <td>Academic Support and Resources</td>\n      <td>I'm having trouble finding the course material...</td>\n      <td>23</td>\n      <td>3.11</td>\n      <td>2</td>\n      <td>1</td>\n      <td>0</td>\n    </tr>\n    <tr>\n      <th>2</th>\n      <td>Academic Support and Resources</td>\n      <td>It's frustrating to have limited access to res...</td>\n      <td>20</td>\n      <td>3.68</td>\n      <td>2</td>\n      <td>1</td>\n      <td>0</td>\n    </tr>\n    <tr>\n      <th>3</th>\n      <td>Academic Support and Resources</td>\n      <td>I'm really struggling in one of my classes but...</td>\n      <td>20</td>\n      <td>1.30</td>\n      <td>2</td>\n      <td>1</td>\n      <td>0</td>\n    </tr>\n    <tr>\n      <th>4</th>\n      <td>Academic Support and Resources</td>\n      <td>I am really struggling with understanding the...</td>\n      <td>26</td>\n      <td>2.50</td>\n      <td>2</td>\n      <td>1</td>\n      <td>0</td>\n    </tr>\n    <tr>\n      <th>...</th>\n      <td>...</td>\n      <td>...</td>\n      <td>...</td>\n      <td>...</td>\n      <td>...</td>\n      <td>...</td>\n      <td>...</td>\n    </tr>\n    <tr>\n      <th>1000</th>\n      <td>Food and Cantines</td>\n      <td>26. I have been unable to find food that meets...</td>\n      <td>18</td>\n      <td>1.16</td>\n      <td>4</td>\n      <td>1</td>\n      <td>1</td>\n    </tr>\n    <tr>\n      <th>1001</th>\n      <td>Food and Cantines</td>\n      <td>27. I have been unable to find food that I can...</td>\n      <td>20</td>\n      <td>4.05</td>\n      <td>2</td>\n      <td>1</td>\n      <td>1</td>\n    </tr>\n    <tr>\n      <th>1002</th>\n      <td>Food and Cantines</td>\n      <td>28. I have been unable to find food that I enjoy.</td>\n      <td>22</td>\n      <td>1.86</td>\n      <td>3</td>\n      <td>1</td>\n      <td>1</td>\n    </tr>\n    <tr>\n      <th>1003</th>\n      <td>Food and Cantines</td>\n      <td>29. I have been unable to find food that is he...</td>\n      <td>20</td>\n      <td>2.06</td>\n      <td>2</td>\n      <td>1</td>\n      <td>1</td>\n    </tr>\n    <tr>\n      <th>1004</th>\n      <td>Food and Cantines</td>\n      <td>30. I have been unable to find food that is co...</td>\n      <td>21</td>\n      <td>2.58</td>\n      <td>1</td>\n      <td>1</td>\n      <td>1</td>\n    </tr>\n  </tbody>\n</table>\n<p>1005 rows × 7 columns</p>\n</div>"
     },
     "execution_count": 32,
     "metadata": {},
     "output_type": "execute_result"
    }
   ],
   "source": [],
   "metadata": {
    "collapsed": false
   }
  },
  {
   "cell_type": "code",
   "execution_count": 38,
   "outputs": [
    {
     "name": "stdout",
     "output_type": "stream",
     "text": [
      "<class 'pandas.core.frame.DataFrame'>\n",
      "RangeIndex: 1005 entries, 0 to 1004\n",
      "Data columns (total 7 columns):\n",
      " #   Column   Non-Null Count  Dtype   \n",
      "---  ------   --------------  -----   \n",
      " 0   Genre    1005 non-null   category\n",
      " 1   Reports  1005 non-null   object  \n",
      " 2   Age      1005 non-null   int64   \n",
      " 3   Gpa      1005 non-null   float64 \n",
      " 4   Year     1005 non-null   int64   \n",
      " 5   Count    1005 non-null   int64   \n",
      " 6   isMale   1005 non-null   int64   \n",
      "dtypes: category(1), float64(1), int64(4), object(1)\n",
      "memory usage: 48.6+ KB\n"
     ]
    }
   ],
   "source": [
    "df1[\"Genre\"] = df1[\"Genre\"].astype(\"category\")\n",
    "df1[\"Gender\"] = df1[\"Gender\"].astype(\"category\")"
   ],
   "metadata": {
    "collapsed": false
   }
  },
  {
   "cell_type": "code",
   "execution_count": null,
   "outputs": [],
   "source": [
    "\n"
   ],
   "metadata": {
    "collapsed": false
   }
  }
 ],
 "metadata": {
  "kernelspec": {
   "display_name": "Python 3",
   "language": "python",
   "name": "python3"
  },
  "language_info": {
   "codemirror_mode": {
    "name": "ipython",
    "version": 2
   },
   "file_extension": ".py",
   "mimetype": "text/x-python",
   "name": "python",
   "nbconvert_exporter": "python",
   "pygments_lexer": "ipython2",
   "version": "2.7.6"
  }
 },
 "nbformat": 4,
 "nbformat_minor": 0
}
