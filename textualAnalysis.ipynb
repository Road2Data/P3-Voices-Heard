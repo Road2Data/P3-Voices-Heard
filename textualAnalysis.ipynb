{
 "cells": [
  {
   "cell_type": "markdown",
   "source": [
    "# \"Voices Heard\" Data Analysis\n",
    "\n",
    "Task Overview: Use ```Reports``` textual data to predict ```Genre```.\n",
    "Method: TF-IDF, SVD\n",
    "\n",
    "Model Workflow:\n",
    "* Lowercase, Punctuation\n",
    "* Tokenization\n",
    "* Lemmatization, Stemming\n",
    "* Vectorization (TF-IDF)\n",
    "* SVD\n",
    "\n",
    "## I. Imports"
   ],
   "metadata": {
    "collapsed": false
   }
  },
  {
   "cell_type": "code",
   "execution_count": 70,
   "outputs": [
    {
     "name": "stderr",
     "output_type": "stream",
     "text": [
      "[nltk_data] Downloading package punkt to\n",
      "[nltk_data]     C:\\Users\\alexs\\AppData\\Roaming\\nltk_data...\n",
      "[nltk_data]   Unzipping tokenizers\\punkt.zip.\n",
      "[nltk_data] Downloading package stopwords to\n",
      "[nltk_data]     C:\\Users\\alexs\\AppData\\Roaming\\nltk_data...\n",
      "[nltk_data]   Unzipping corpora\\stopwords.zip.\n"
     ]
    }
   ],
   "source": [
    "import numpy as np\n",
    "import pandas as pd\n",
    "import matplotlib.pyplot as plt\n",
    "import seaborn as sns\n",
    "\n",
    "import nltk\n",
    "nltk.download(\"punkt\")\n",
    "nltk.download(\"stopwords\")\n",
    "from nltk.corpus import stopwords\n",
    "from nltk.tokenize import word_tokenize\n",
    "from nltk.stem import PorterStemmer\n",
    "from sklearn.feature_extraction.text import TfidfVectorizer\n",
    "import yake\n",
    "\n",
    "from sklearn.model_selection import train_test_split\n",
    "from sklearn.svm import SVC"
   ],
   "metadata": {
    "collapsed": false
   }
  },
  {
   "cell_type": "code",
   "execution_count": 58,
   "outputs": [
    {
     "data": {
      "text/plain": "                               Genre  \\\n0     Academic Support and Resources   \n1     Academic Support and Resources   \n2     Academic Support and Resources   \n3     Academic Support and Resources   \n4     Academic Support and Resources   \n...                              ...   \n1000               Food and Cantines   \n1001               Food and Cantines   \n1002               Food and Cantines   \n1003               Food and Cantines   \n1004               Food and Cantines   \n\n                                                Reports  Age   Gpa  Year  \\\n0     The limited access to research databases and m...   27  2.18     2   \n1     I'm having trouble finding the course material...   23  3.11     2   \n2     It's frustrating to have limited access to res...   20  3.68     2   \n3     I'm really struggling in one of my classes but...   20  1.30     2   \n4      I am really struggling with understanding the...   26  2.50     2   \n...                                                 ...  ...   ...   ...   \n1000  26. I have been unable to find food that meets...   18  1.16     4   \n1001  27. I have been unable to find food that I can...   20  4.05     2   \n1002  28. I have been unable to find food that I enjoy.   22  1.86     3   \n1003  29. I have been unable to find food that is he...   20  2.06     2   \n1004  30. I have been unable to find food that is co...   21  2.58     1   \n\n      Count Gender  \n0         1      M  \n1         1      F  \n2         1      F  \n3         1      F  \n4         1      F  \n...     ...    ...  \n1000      1      M  \n1001      1      M  \n1002      1      M  \n1003      1      M  \n1004      1      M  \n\n[1005 rows x 7 columns]",
      "text/html": "<div>\n<style scoped>\n    .dataframe tbody tr th:only-of-type {\n        vertical-align: middle;\n    }\n\n    .dataframe tbody tr th {\n        vertical-align: top;\n    }\n\n    .dataframe thead th {\n        text-align: right;\n    }\n</style>\n<table border=\"1\" class=\"dataframe\">\n  <thead>\n    <tr style=\"text-align: right;\">\n      <th></th>\n      <th>Genre</th>\n      <th>Reports</th>\n      <th>Age</th>\n      <th>Gpa</th>\n      <th>Year</th>\n      <th>Count</th>\n      <th>Gender</th>\n    </tr>\n  </thead>\n  <tbody>\n    <tr>\n      <th>0</th>\n      <td>Academic Support and Resources</td>\n      <td>The limited access to research databases and m...</td>\n      <td>27</td>\n      <td>2.18</td>\n      <td>2</td>\n      <td>1</td>\n      <td>M</td>\n    </tr>\n    <tr>\n      <th>1</th>\n      <td>Academic Support and Resources</td>\n      <td>I'm having trouble finding the course material...</td>\n      <td>23</td>\n      <td>3.11</td>\n      <td>2</td>\n      <td>1</td>\n      <td>F</td>\n    </tr>\n    <tr>\n      <th>2</th>\n      <td>Academic Support and Resources</td>\n      <td>It's frustrating to have limited access to res...</td>\n      <td>20</td>\n      <td>3.68</td>\n      <td>2</td>\n      <td>1</td>\n      <td>F</td>\n    </tr>\n    <tr>\n      <th>3</th>\n      <td>Academic Support and Resources</td>\n      <td>I'm really struggling in one of my classes but...</td>\n      <td>20</td>\n      <td>1.30</td>\n      <td>2</td>\n      <td>1</td>\n      <td>F</td>\n    </tr>\n    <tr>\n      <th>4</th>\n      <td>Academic Support and Resources</td>\n      <td>I am really struggling with understanding the...</td>\n      <td>26</td>\n      <td>2.50</td>\n      <td>2</td>\n      <td>1</td>\n      <td>F</td>\n    </tr>\n    <tr>\n      <th>...</th>\n      <td>...</td>\n      <td>...</td>\n      <td>...</td>\n      <td>...</td>\n      <td>...</td>\n      <td>...</td>\n      <td>...</td>\n    </tr>\n    <tr>\n      <th>1000</th>\n      <td>Food and Cantines</td>\n      <td>26. I have been unable to find food that meets...</td>\n      <td>18</td>\n      <td>1.16</td>\n      <td>4</td>\n      <td>1</td>\n      <td>M</td>\n    </tr>\n    <tr>\n      <th>1001</th>\n      <td>Food and Cantines</td>\n      <td>27. I have been unable to find food that I can...</td>\n      <td>20</td>\n      <td>4.05</td>\n      <td>2</td>\n      <td>1</td>\n      <td>M</td>\n    </tr>\n    <tr>\n      <th>1002</th>\n      <td>Food and Cantines</td>\n      <td>28. I have been unable to find food that I enjoy.</td>\n      <td>22</td>\n      <td>1.86</td>\n      <td>3</td>\n      <td>1</td>\n      <td>M</td>\n    </tr>\n    <tr>\n      <th>1003</th>\n      <td>Food and Cantines</td>\n      <td>29. I have been unable to find food that is he...</td>\n      <td>20</td>\n      <td>2.06</td>\n      <td>2</td>\n      <td>1</td>\n      <td>M</td>\n    </tr>\n    <tr>\n      <th>1004</th>\n      <td>Food and Cantines</td>\n      <td>30. I have been unable to find food that is co...</td>\n      <td>21</td>\n      <td>2.58</td>\n      <td>1</td>\n      <td>1</td>\n      <td>M</td>\n    </tr>\n  </tbody>\n</table>\n<p>1005 rows × 7 columns</p>\n</div>"
     },
     "execution_count": 58,
     "metadata": {},
     "output_type": "execute_result"
    }
   ],
   "source": [
    "text = pd.read_csv(\"data/voicesHeard.csv\")\n",
    "text"
   ],
   "metadata": {
    "collapsed": false
   }
  },
  {
   "cell_type": "code",
   "execution_count": 65,
   "outputs": [],
   "source": [
    "def get_kws(sample, num_ngrams, num_samples):\n",
    "    extractor = yake.KeywordExtractor(n=num_ngrams, top=num_samples)\n",
    "    keywords = extractor.extract_keywords(sample)\n",
    "    kw = [kw for kw, _ in keywords]\n",
    "    return kw"
   ],
   "metadata": {
    "collapsed": false
   }
  },
  {
   "cell_type": "code",
   "execution_count": 67,
   "outputs": [
    {
     "data": {
      "text/plain": "0       [research databases, limited access, students]\n1                  [trouble finding, classes, trouble]\n2        [limited access, research databases, project]\n3                [academic advisor, weeks, struggling]\n4              [assignment, struggling, understanding]\n                             ...                      \n1000                              [unable, find, food]\n1001                       [find food, afford, unable]\n1002                        [find food, enjoy, unable]\n1003                        [nutritious, unable, find]\n1004                       [find food, liking, unable]\nName: Reports, Length: 1005, dtype: object"
     },
     "execution_count": 67,
     "metadata": {},
     "output_type": "execute_result"
    }
   ],
   "source": [
    "text[\"Reports\"].apply(lambda x: get_kws(x, 2, 3))"
   ],
   "metadata": {
    "collapsed": false
   }
  },
  {
   "cell_type": "code",
   "execution_count": null,
   "outputs": [],
   "source": [],
   "metadata": {
    "collapsed": false
   }
  }
 ],
 "metadata": {
  "kernelspec": {
   "display_name": "Python 3",
   "language": "python",
   "name": "python3"
  },
  "language_info": {
   "codemirror_mode": {
    "name": "ipython",
    "version": 2
   },
   "file_extension": ".py",
   "mimetype": "text/x-python",
   "name": "python",
   "nbconvert_exporter": "python",
   "pygments_lexer": "ipython2",
   "version": "2.7.6"
  }
 },
 "nbformat": 4,
 "nbformat_minor": 0
}
