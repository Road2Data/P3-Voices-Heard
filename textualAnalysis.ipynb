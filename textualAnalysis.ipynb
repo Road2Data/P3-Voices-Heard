{
 "cells": [
  {
   "cell_type": "markdown",
   "source": [
    "# \"Voices Heard\" Data Analysis\n",
    "\n",
    "Task Overview: Use ```Reports``` textual data to predict ```Genre```.\n",
    "Method: TF-IDF, SVD\n",
    "\n",
    "Model Workflow:\n",
    "* Textual Preprocessing\n",
    "* Vectorization\n",
    "* TF-IDF\n",
    "* Classification\n",
    "\n",
    "## I. Imports"
   ],
   "metadata": {
    "collapsed": false
   }
  },
  {
   "cell_type": "code",
   "execution_count": 3,
   "outputs": [],
   "source": [
    "import numpy as np\n",
    "import pandas as pd\n",
    "import matplotlib.pyplot as plt\n",
    "import seaborn as sns\n",
    "\n",
    "import string\n",
    "from nltk.corpus import stopwords\n",
    "from nltk.tokenize import word_tokenize\n",
    "\n",
    "from sklearn.model_selection import train_test_split\n",
    "from sklearn.pipeline import Pipeline\n",
    "from sklearn.feature_extraction.text import CountVectorizer, TfidfTransformer\n",
    "\n",
    "from sklearn.svm import LinearSVC\n",
    "from sklearn.metrics import confusion_matrix, classification_report"
   ],
   "metadata": {
    "collapsed": false
   }
  },
  {
   "cell_type": "code",
   "execution_count": 4,
   "outputs": [
    {
     "data": {
      "text/plain": "                            Genre  \\\n0  Academic Support and Resources   \n1  Academic Support and Resources   \n2  Academic Support and Resources   \n3  Academic Support and Resources   \n4  Academic Support and Resources   \n\n                                             Reports  Age   Gpa  Year  Count  \\\n0  The limited access to research databases and m...   27  2.18     2      1   \n1  I'm having trouble finding the course material...   23  3.11     2      1   \n2  It's frustrating to have limited access to res...   20  3.68     2      1   \n3  I'm really struggling in one of my classes but...   20  1.30     2      1   \n4   I am really struggling with understanding the...   26  2.50     2      1   \n\n  Gender  \n0      M  \n1      F  \n2      F  \n3      F  \n4      F  ",
      "text/html": "<div>\n<style scoped>\n    .dataframe tbody tr th:only-of-type {\n        vertical-align: middle;\n    }\n\n    .dataframe tbody tr th {\n        vertical-align: top;\n    }\n\n    .dataframe thead th {\n        text-align: right;\n    }\n</style>\n<table border=\"1\" class=\"dataframe\">\n  <thead>\n    <tr style=\"text-align: right;\">\n      <th></th>\n      <th>Genre</th>\n      <th>Reports</th>\n      <th>Age</th>\n      <th>Gpa</th>\n      <th>Year</th>\n      <th>Count</th>\n      <th>Gender</th>\n    </tr>\n  </thead>\n  <tbody>\n    <tr>\n      <th>0</th>\n      <td>Academic Support and Resources</td>\n      <td>The limited access to research databases and m...</td>\n      <td>27</td>\n      <td>2.18</td>\n      <td>2</td>\n      <td>1</td>\n      <td>M</td>\n    </tr>\n    <tr>\n      <th>1</th>\n      <td>Academic Support and Resources</td>\n      <td>I'm having trouble finding the course material...</td>\n      <td>23</td>\n      <td>3.11</td>\n      <td>2</td>\n      <td>1</td>\n      <td>F</td>\n    </tr>\n    <tr>\n      <th>2</th>\n      <td>Academic Support and Resources</td>\n      <td>It's frustrating to have limited access to res...</td>\n      <td>20</td>\n      <td>3.68</td>\n      <td>2</td>\n      <td>1</td>\n      <td>F</td>\n    </tr>\n    <tr>\n      <th>3</th>\n      <td>Academic Support and Resources</td>\n      <td>I'm really struggling in one of my classes but...</td>\n      <td>20</td>\n      <td>1.30</td>\n      <td>2</td>\n      <td>1</td>\n      <td>F</td>\n    </tr>\n    <tr>\n      <th>4</th>\n      <td>Academic Support and Resources</td>\n      <td>I am really struggling with understanding the...</td>\n      <td>26</td>\n      <td>2.50</td>\n      <td>2</td>\n      <td>1</td>\n      <td>F</td>\n    </tr>\n  </tbody>\n</table>\n</div>"
     },
     "execution_count": 4,
     "metadata": {},
     "output_type": "execute_result"
    }
   ],
   "source": [
    "df = pd.read_csv(\"data/voicesHeard.csv\")\n",
    "df.head()"
   ],
   "metadata": {
    "collapsed": false
   }
  },
  {
   "cell_type": "code",
   "execution_count": 5,
   "outputs": [
    {
     "data": {
      "text/plain": "      Genre                                            Reports\n0         0  The limited access to research databases and m...\n1         0  I'm having trouble finding the course material...\n2         0  It's frustrating to have limited access to res...\n3         0  I'm really struggling in one of my classes but...\n4         0   I am really struggling with understanding the...\n...     ...                                                ...\n1000      5  26. I have been unable to find food that meets...\n1001      5  27. I have been unable to find food that I can...\n1002      5  28. I have been unable to find food that I enjoy.\n1003      5  29. I have been unable to find food that is he...\n1004      5  30. I have been unable to find food that is co...\n\n[1005 rows x 2 columns]",
      "text/html": "<div>\n<style scoped>\n    .dataframe tbody tr th:only-of-type {\n        vertical-align: middle;\n    }\n\n    .dataframe tbody tr th {\n        vertical-align: top;\n    }\n\n    .dataframe thead th {\n        text-align: right;\n    }\n</style>\n<table border=\"1\" class=\"dataframe\">\n  <thead>\n    <tr style=\"text-align: right;\">\n      <th></th>\n      <th>Genre</th>\n      <th>Reports</th>\n    </tr>\n  </thead>\n  <tbody>\n    <tr>\n      <th>0</th>\n      <td>0</td>\n      <td>The limited access to research databases and m...</td>\n    </tr>\n    <tr>\n      <th>1</th>\n      <td>0</td>\n      <td>I'm having trouble finding the course material...</td>\n    </tr>\n    <tr>\n      <th>2</th>\n      <td>0</td>\n      <td>It's frustrating to have limited access to res...</td>\n    </tr>\n    <tr>\n      <th>3</th>\n      <td>0</td>\n      <td>I'm really struggling in one of my classes but...</td>\n    </tr>\n    <tr>\n      <th>4</th>\n      <td>0</td>\n      <td>I am really struggling with understanding the...</td>\n    </tr>\n    <tr>\n      <th>...</th>\n      <td>...</td>\n      <td>...</td>\n    </tr>\n    <tr>\n      <th>1000</th>\n      <td>5</td>\n      <td>26. I have been unable to find food that meets...</td>\n    </tr>\n    <tr>\n      <th>1001</th>\n      <td>5</td>\n      <td>27. I have been unable to find food that I can...</td>\n    </tr>\n    <tr>\n      <th>1002</th>\n      <td>5</td>\n      <td>28. I have been unable to find food that I enjoy.</td>\n    </tr>\n    <tr>\n      <th>1003</th>\n      <td>5</td>\n      <td>29. I have been unable to find food that is he...</td>\n    </tr>\n    <tr>\n      <th>1004</th>\n      <td>5</td>\n      <td>30. I have been unable to find food that is co...</td>\n    </tr>\n  </tbody>\n</table>\n<p>1005 rows × 2 columns</p>\n</div>"
     },
     "execution_count": 5,
     "metadata": {},
     "output_type": "execute_result"
    }
   ],
   "source": [
    "labelCodes = {l:i for i, l in enumerate(df[\"Genre\"].astype(\"category\").cat.categories.tolist())}\n",
    "df[\"Genre\"] = df[\"Genre\"].apply(lambda x: labelCodes[x]).astype(\"int64\")\n",
    "df[\"Reports\"] = df[\"Reports\"].astype(\"string\")\n",
    "df = df[[\"Genre\", \"Reports\"]]\n",
    "df"
   ],
   "metadata": {
    "collapsed": false
   }
  },
  {
   "cell_type": "code",
   "execution_count": 6,
   "outputs": [
    {
     "name": "stdout",
     "output_type": "stream",
     "text": [
      "The limited access to research databases and materials is causing a lot of frustration among students. We need better access to be able to succeed academically.\n"
     ]
    }
   ],
   "source": [
    "sample = df.iloc[0, 1]\n",
    "print(sample)"
   ],
   "metadata": {
    "collapsed": false
   }
  },
  {
   "cell_type": "code",
   "execution_count": 7,
   "outputs": [],
   "source": [
    "def tokenize(text: str) -> list:\n",
    "    \"\"\"Transform a string of text into a list of word tokens, all lowercase. We desregard punctuation, numeric characters, and stopwors.\"\"\"\n",
    "    tkns = [t.lower() for t in word_tokenize(text)]\n",
    "\n",
    "    punc = [str(s) for s in string.punctuation]\n",
    "    numer = [str(s) for s in string.digits]\n",
    "\n",
    "    stops = stopwords.words(\"english\")\n",
    "\n",
    "    tkns = [t for t in tkns if t not in punc + numer + stops]\n",
    "    return tkns"
   ],
   "metadata": {
    "collapsed": false
   }
  },
  {
   "cell_type": "code",
   "execution_count": 8,
   "outputs": [
    {
     "data": {
      "text/plain": "['limited',\n 'access',\n 'research',\n 'databases',\n 'materials',\n 'causing',\n 'lot',\n 'frustration',\n 'among',\n 'students',\n 'need',\n 'better',\n 'access',\n 'able',\n 'succeed',\n 'academically']"
     },
     "execution_count": 8,
     "metadata": {},
     "output_type": "execute_result"
    }
   ],
   "source": [
    "tokenize(sample)"
   ],
   "metadata": {
    "collapsed": false
   }
  },
  {
   "cell_type": "code",
   "execution_count": 9,
   "outputs": [],
   "source": [
    "X = df[\"Reports\"]\n",
    "y = df[\"Genre\"]\n",
    "\n",
    "report_train, report_test, genre_train, genre_test = train_test_split(X, y, test_size=0.2, random_state=101)"
   ],
   "metadata": {
    "collapsed": false
   }
  },
  {
   "cell_type": "code",
   "execution_count": 10,
   "outputs": [],
   "source": [
    "pipeline = Pipeline([\n",
    "    ('bow', CountVectorizer(analyzer=tokenize)),\n",
    "    ('tfidf', TfidfTransformer()),\n",
    "    ('classifier', LinearSVC()),\n",
    "])"
   ],
   "metadata": {
    "collapsed": false
   }
  },
  {
   "cell_type": "code",
   "execution_count": 11,
   "outputs": [
    {
     "data": {
      "text/plain": "Pipeline(steps=[('bow',\n                 CountVectorizer(analyzer=<function tokenize at 0x00000229AB0E0EE0>)),\n                ('tfidf', TfidfTransformer()), ('classifier', LinearSVC())])",
      "text/html": "<style>#sk-container-id-1 {color: black;background-color: white;}#sk-container-id-1 pre{padding: 0;}#sk-container-id-1 div.sk-toggleable {background-color: white;}#sk-container-id-1 label.sk-toggleable__label {cursor: pointer;display: block;width: 100%;margin-bottom: 0;padding: 0.3em;box-sizing: border-box;text-align: center;}#sk-container-id-1 label.sk-toggleable__label-arrow:before {content: \"▸\";float: left;margin-right: 0.25em;color: #696969;}#sk-container-id-1 label.sk-toggleable__label-arrow:hover:before {color: black;}#sk-container-id-1 div.sk-estimator:hover label.sk-toggleable__label-arrow:before {color: black;}#sk-container-id-1 div.sk-toggleable__content {max-height: 0;max-width: 0;overflow: hidden;text-align: left;background-color: #f0f8ff;}#sk-container-id-1 div.sk-toggleable__content pre {margin: 0.2em;color: black;border-radius: 0.25em;background-color: #f0f8ff;}#sk-container-id-1 input.sk-toggleable__control:checked~div.sk-toggleable__content {max-height: 200px;max-width: 100%;overflow: auto;}#sk-container-id-1 input.sk-toggleable__control:checked~label.sk-toggleable__label-arrow:before {content: \"▾\";}#sk-container-id-1 div.sk-estimator input.sk-toggleable__control:checked~label.sk-toggleable__label {background-color: #d4ebff;}#sk-container-id-1 div.sk-label input.sk-toggleable__control:checked~label.sk-toggleable__label {background-color: #d4ebff;}#sk-container-id-1 input.sk-hidden--visually {border: 0;clip: rect(1px 1px 1px 1px);clip: rect(1px, 1px, 1px, 1px);height: 1px;margin: -1px;overflow: hidden;padding: 0;position: absolute;width: 1px;}#sk-container-id-1 div.sk-estimator {font-family: monospace;background-color: #f0f8ff;border: 1px dotted black;border-radius: 0.25em;box-sizing: border-box;margin-bottom: 0.5em;}#sk-container-id-1 div.sk-estimator:hover {background-color: #d4ebff;}#sk-container-id-1 div.sk-parallel-item::after {content: \"\";width: 100%;border-bottom: 1px solid gray;flex-grow: 1;}#sk-container-id-1 div.sk-label:hover label.sk-toggleable__label {background-color: #d4ebff;}#sk-container-id-1 div.sk-serial::before {content: \"\";position: absolute;border-left: 1px solid gray;box-sizing: border-box;top: 0;bottom: 0;left: 50%;z-index: 0;}#sk-container-id-1 div.sk-serial {display: flex;flex-direction: column;align-items: center;background-color: white;padding-right: 0.2em;padding-left: 0.2em;position: relative;}#sk-container-id-1 div.sk-item {position: relative;z-index: 1;}#sk-container-id-1 div.sk-parallel {display: flex;align-items: stretch;justify-content: center;background-color: white;position: relative;}#sk-container-id-1 div.sk-item::before, #sk-container-id-1 div.sk-parallel-item::before {content: \"\";position: absolute;border-left: 1px solid gray;box-sizing: border-box;top: 0;bottom: 0;left: 50%;z-index: -1;}#sk-container-id-1 div.sk-parallel-item {display: flex;flex-direction: column;z-index: 1;position: relative;background-color: white;}#sk-container-id-1 div.sk-parallel-item:first-child::after {align-self: flex-end;width: 50%;}#sk-container-id-1 div.sk-parallel-item:last-child::after {align-self: flex-start;width: 50%;}#sk-container-id-1 div.sk-parallel-item:only-child::after {width: 0;}#sk-container-id-1 div.sk-dashed-wrapped {border: 1px dashed gray;margin: 0 0.4em 0.5em 0.4em;box-sizing: border-box;padding-bottom: 0.4em;background-color: white;}#sk-container-id-1 div.sk-label label {font-family: monospace;font-weight: bold;display: inline-block;line-height: 1.2em;}#sk-container-id-1 div.sk-label-container {text-align: center;}#sk-container-id-1 div.sk-container {/* jupyter's `normalize.less` sets `[hidden] { display: none; }` but bootstrap.min.css set `[hidden] { display: none !important; }` so we also need the `!important` here to be able to override the default hidden behavior on the sphinx rendered scikit-learn.org. See: https://github.com/scikit-learn/scikit-learn/issues/21755 */display: inline-block !important;position: relative;}#sk-container-id-1 div.sk-text-repr-fallback {display: none;}</style><div id=\"sk-container-id-1\" class=\"sk-top-container\"><div class=\"sk-text-repr-fallback\"><pre>Pipeline(steps=[(&#x27;bow&#x27;,\n                 CountVectorizer(analyzer=&lt;function tokenize at 0x00000229AB0E0EE0&gt;)),\n                (&#x27;tfidf&#x27;, TfidfTransformer()), (&#x27;classifier&#x27;, LinearSVC())])</pre><b>In a Jupyter environment, please rerun this cell to show the HTML representation or trust the notebook. <br />On GitHub, the HTML representation is unable to render, please try loading this page with nbviewer.org.</b></div><div class=\"sk-container\" hidden><div class=\"sk-item sk-dashed-wrapped\"><div class=\"sk-label-container\"><div class=\"sk-label sk-toggleable\"><input class=\"sk-toggleable__control sk-hidden--visually\" id=\"sk-estimator-id-1\" type=\"checkbox\" ><label for=\"sk-estimator-id-1\" class=\"sk-toggleable__label sk-toggleable__label-arrow\">Pipeline</label><div class=\"sk-toggleable__content\"><pre>Pipeline(steps=[(&#x27;bow&#x27;,\n                 CountVectorizer(analyzer=&lt;function tokenize at 0x00000229AB0E0EE0&gt;)),\n                (&#x27;tfidf&#x27;, TfidfTransformer()), (&#x27;classifier&#x27;, LinearSVC())])</pre></div></div></div><div class=\"sk-serial\"><div class=\"sk-item\"><div class=\"sk-estimator sk-toggleable\"><input class=\"sk-toggleable__control sk-hidden--visually\" id=\"sk-estimator-id-2\" type=\"checkbox\" ><label for=\"sk-estimator-id-2\" class=\"sk-toggleable__label sk-toggleable__label-arrow\">CountVectorizer</label><div class=\"sk-toggleable__content\"><pre>CountVectorizer(analyzer=&lt;function tokenize at 0x00000229AB0E0EE0&gt;)</pre></div></div></div><div class=\"sk-item\"><div class=\"sk-estimator sk-toggleable\"><input class=\"sk-toggleable__control sk-hidden--visually\" id=\"sk-estimator-id-3\" type=\"checkbox\" ><label for=\"sk-estimator-id-3\" class=\"sk-toggleable__label sk-toggleable__label-arrow\">TfidfTransformer</label><div class=\"sk-toggleable__content\"><pre>TfidfTransformer()</pre></div></div></div><div class=\"sk-item\"><div class=\"sk-estimator sk-toggleable\"><input class=\"sk-toggleable__control sk-hidden--visually\" id=\"sk-estimator-id-4\" type=\"checkbox\" ><label for=\"sk-estimator-id-4\" class=\"sk-toggleable__label sk-toggleable__label-arrow\">LinearSVC</label><div class=\"sk-toggleable__content\"><pre>LinearSVC()</pre></div></div></div></div></div></div></div>"
     },
     "execution_count": 11,
     "metadata": {},
     "output_type": "execute_result"
    }
   ],
   "source": [
    "pipeline.fit(report_train, genre_train)"
   ],
   "metadata": {
    "collapsed": false
   }
  },
  {
   "cell_type": "code",
   "execution_count": 15,
   "outputs": [],
   "source": [
    "pred = pipeline.predict(report_test)"
   ],
   "metadata": {
    "collapsed": false
   }
  },
  {
   "cell_type": "code",
   "execution_count": 16,
   "outputs": [
    {
     "data": {
      "text/plain": "<Figure size 640x480 with 2 Axes>",
      "image/png": "[encoded data removed]"
     },
     "metadata": {},
     "output_type": "display_data"
    }
   ],
   "source": [
    "sns.heatmap(confusion_matrix(genre_test, pred), annot=True, cmap=\"coolwarm\")\n",
    "plt.title(\"Confusion Matrix\")\n",
    "plt.show()"
   ],
   "metadata": {
    "collapsed": false
   }
  },
  {
   "cell_type": "markdown",
   "source": [
    "In an ideal scenario, each off-diagonal entry is zero, meaning no entries were misclassified. Here, our off-diagonal entries are fairly low, so we'll take that as a good sign. Let's take a look at the classification report."
   ],
   "metadata": {
    "collapsed": false
   }
  },
  {
   "cell_type": "code",
   "execution_count": 14,
   "outputs": [
    {
     "name": "stdout",
     "output_type": "stream",
     "text": [
      "              precision    recall  f1-score   support\n",
      "\n",
      "           0       0.96      0.94      0.95        50\n",
      "           1       0.83      1.00      0.91         5\n",
      "           2       0.93      1.00      0.97        14\n",
      "           3       1.00      0.95      0.98        22\n",
      "           4       0.89      0.81      0.85        21\n",
      "           5       1.00      1.00      1.00        24\n",
      "           6       0.92      1.00      0.96        11\n",
      "           7       1.00      0.95      0.98        21\n",
      "           8       1.00      1.00      1.00        16\n",
      "           9       0.93      1.00      0.96        13\n",
      "          10       0.80      1.00      0.89         4\n",
      "\n",
      "    accuracy                           0.96       201\n",
      "   macro avg       0.93      0.97      0.95       201\n",
      "weighted avg       0.96      0.96      0.96       201\n",
      "\n"
     ]
    }
   ],
   "source": [
    "print(classification_report(pred, genre_test))"
   ],
   "metadata": {
    "collapsed": false
   }
  },
  {
   "cell_type": "markdown",
   "source": [
    "We managed to score 96% accuracy when predicting the ```Genre``` of a complaint given the textual data of ```Report```. We did not need to engage in Stemming or Lemmatization."
   ],
   "metadata": {
    "collapsed": false
   }
  },
  {
   "cell_type": "code",
   "execution_count": 14,
   "outputs": [],
   "source": [],
   "metadata": {
    "collapsed": false
   }
  }
 ],
 "metadata": {
  "kernelspec": {
   "display_name": "Python 3",
   "language": "python",
   "name": "python3"
  },
  "language_info": {
   "codemirror_mode": {
    "name": "ipython",
    "version": 2
   },
   "file_extension": ".py",
   "mimetype": "text/x-python",
   "name": "python",
   "nbconvert_exporter": "python",
   "pygments_lexer": "ipython2",
   "version": "2.7.6"
  }
 },
 "nbformat": 4,
 "nbformat_minor": 0
}
